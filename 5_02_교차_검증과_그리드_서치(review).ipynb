{
  "nbformat": 4,
  "nbformat_minor": 0,
  "metadata": {
    "colab": {
      "name": "5-02 교차 검증과 그리드 서치.ipynb",
      "provenance": [],
      "collapsed_sections": [],
      "authorship_tag": "ABX9TyNIga2lrFG7VVaURwm3exsB"
    },
    "kernelspec": {
      "name": "python3",
      "display_name": "Python 3"
    },
    "language_info": {
      "name": "python"
    }
  },
  "cells": [
    {
      "cell_type": "code",
      "execution_count": 1,
      "metadata": {
        "id": "nGNRbuftYaNY"
      },
      "outputs": [],
      "source": [
        "import pandas as pd\n",
        "wine = pd.read_csv(\"https://bit.ly/wine_csv_data\")"
      ]
    },
    {
      "cell_type": "code",
      "source": [
        "data=wine[[\"alcohol\",\"sugar\",\"pH\"]].to_numpy()\n",
        "target = wine[\"class\"].to_numpy()"
      ],
      "metadata": {
        "id": "YcRfI83JYp45"
      },
      "execution_count": 2,
      "outputs": []
    },
    {
      "cell_type": "code",
      "source": [
        "from sklearn.model_selection import train_test_split\n",
        "train_input, test_input, train_target, test_target = train_test_split(data, target, test_size=0.2, random_state=42)"
      ],
      "metadata": {
        "id": "hyHp9GCqY1OZ"
      },
      "execution_count": 3,
      "outputs": []
    },
    {
      "cell_type": "code",
      "source": [
        "# 트레인 데이터를 서브 데이터와 검증 데이터로 또 나눔\n",
        "sub_input, val_input, sub_target, val_target = train_test_split(train_input, train_target, test_size=0.2, random_state=42)"
      ],
      "metadata": {
        "id": "7VnEDSA4ZHqu"
      },
      "execution_count": 4,
      "outputs": []
    },
    {
      "cell_type": "code",
      "source": [
        "print(sub_input.shape, val_input.shape, test_input.shape)\n",
        "print(sub_target.shape, val_target.shape, test_target.shape)"
      ],
      "metadata": {
        "colab": {
          "base_uri": "https://localhost:8080/"
        },
        "id": "061RbOQ0ZoPl",
        "outputId": "873285ee-c2ec-48ab-8172-c3eec4ca089a"
      },
      "execution_count": 5,
      "outputs": [
        {
          "output_type": "stream",
          "name": "stdout",
          "text": [
            "(4157, 3) (1040, 3) (1300, 3)\n",
            "(4157,) (1040,) (1300,)\n"
          ]
        }
      ]
    },
    {
      "cell_type": "code",
      "source": [
        "# 서브 데이터로 결정트리 학습후, 서브 데이터와 검증 데이터의 정확도를 구함\n",
        "from sklearn.tree import DecisionTreeClassifier\n",
        "dt = DecisionTreeClassifier(random_state=42)\n",
        "dt.fit(sub_input, sub_target)\n",
        "print(dt.score(sub_input, sub_target))\n",
        "print(dt.score(val_input, val_target))"
      ],
      "metadata": {
        "colab": {
          "base_uri": "https://localhost:8080/"
        },
        "id": "meZzUd9MZs-e",
        "outputId": "afd996a6-c8e9-4ca8-e304-7554d95d9e46"
      },
      "execution_count": 6,
      "outputs": [
        {
          "output_type": "stream",
          "name": "stdout",
          "text": [
            "0.9971133028626413\n",
            "0.864423076923077\n"
          ]
        }
      ]
    },
    {
      "cell_type": "code",
      "source": [
        "# cross_validate() 메서드 : 교차검증 함수\n",
        "# cv 매개변수 : 교차 검증 분할 수\n",
        "from sklearn.model_selection import cross_validate\n",
        "scores = cross_validate(dt, train_input, train_target)\n",
        "scores"
      ],
      "metadata": {
        "colab": {
          "base_uri": "https://localhost:8080/"
        },
        "id": "HJGSfnbeak3u",
        "outputId": "65446861-5dbd-4221-de4a-2b4d556f7f86"
      },
      "execution_count": 7,
      "outputs": [
        {
          "output_type": "execute_result",
          "data": {
            "text/plain": [
              "{'fit_time': array([0.00800967, 0.0069809 , 0.00733924, 0.00720835, 0.00731969]),\n",
              " 'score_time': array([0.00072312, 0.00062609, 0.00063372, 0.00064731, 0.00106931]),\n",
              " 'test_score': array([0.86923077, 0.84615385, 0.87680462, 0.84889317, 0.83541867])}"
            ]
          },
          "metadata": {},
          "execution_count": 7
        }
      ]
    },
    {
      "cell_type": "code",
      "source": [
        "import numpy as np\n",
        "print(np.mean(scores[\"test_score\"]))"
      ],
      "metadata": {
        "colab": {
          "base_uri": "https://localhost:8080/"
        },
        "id": "wqCG7U4ZcYzA",
        "outputId": "97b4f487-9357-40aa-f03f-8377e751de99"
      },
      "execution_count": 8,
      "outputs": [
        {
          "output_type": "stream",
          "name": "stdout",
          "text": [
            "0.855300214703487\n"
          ]
        }
      ]
    },
    {
      "cell_type": "code",
      "source": [
        "# StratifiedKFold() : 타깃 클래스를 골고루 나눠줌\n",
        "from sklearn.model_selection import StratifiedKFold\n",
        "scores = cross_validate(dt, train_input, train_target, cv=StratifiedKFold())\n",
        "print(np.mean(scores[\"test_score\"]))"
      ],
      "metadata": {
        "colab": {
          "base_uri": "https://localhost:8080/"
        },
        "id": "LydQKqMYdpOQ",
        "outputId": "abd8e74d-ff71-42fa-8898-88854b1dae9d"
      },
      "execution_count": 9,
      "outputs": [
        {
          "output_type": "stream",
          "name": "stdout",
          "text": [
            "0.855300214703487\n"
          ]
        }
      ]
    },
    {
      "cell_type": "code",
      "source": [
        "# n_splits 매개변수 : 구간을 몇개로 나눌지 결정\n",
        "splitter = StratifiedKFold(n_splits=10, shuffle=True, random_state=42)"
      ],
      "metadata": {
        "id": "QY3jNamcexo4"
      },
      "execution_count": 10,
      "outputs": []
    },
    {
      "cell_type": "code",
      "source": [
        "print(splitter)"
      ],
      "metadata": {
        "colab": {
          "base_uri": "https://localhost:8080/"
        },
        "id": "HKLxn8YhfAiN",
        "outputId": "85a233d5-fb43-4e71-8d6e-339151a22eaf"
      },
      "execution_count": 11,
      "outputs": [
        {
          "output_type": "stream",
          "name": "stdout",
          "text": [
            "StratifiedKFold(n_splits=10, random_state=42, shuffle=True)\n"
          ]
        }
      ]
    },
    {
      "cell_type": "code",
      "source": [
        "scores = cross_validate(dt, train_input, train_target, cv=splitter)\n",
        "print(np.mean(scores[\"test_score\"]))"
      ],
      "metadata": {
        "id": "S_c_w9fTfCPT",
        "colab": {
          "base_uri": "https://localhost:8080/"
        },
        "outputId": "b967fd7f-083f-4aff-a8fb-a3b6437ac99d"
      },
      "execution_count": 12,
      "outputs": [
        {
          "output_type": "stream",
          "name": "stdout",
          "text": [
            "0.8574181117533719\n"
          ]
        }
      ]
    },
    {
      "cell_type": "markdown",
      "source": [
        "##하이퍼파라미터 튜닝 p.248"
      ],
      "metadata": {
        "id": "HsSsn1So0fpl"
      }
    },
    {
      "cell_type": "code",
      "source": [
        "# GridSearchCV 클래스 : 하이퍼파라미터 탐색과 교차 검증을 한 번에 수행해줌\n",
        "from sklearn.model_selection import GridSearchCV\n",
        "params = {\"min_impurity_decrease\":[0.0001, 0.0002, 0.0003, 0.0004, 0.0005]} #탐색할 매개변수와 그 값의 리스트를 딕셔너리로 생성"
      ],
      "metadata": {
        "id": "zsoeu823f3Lq"
      },
      "execution_count": 13,
      "outputs": []
    },
    {
      "cell_type": "code",
      "source": [
        "# n_jobs 매개변수 : 병렬 실행에 사용할 CPU 코어 수를 지정\n",
        "gs = GridSearchCV(DecisionTreeClassifier(random_state=42), params, n_jobs=-1) #탐색 대상 모델과 params 변수를 전달하여 그리드 서치 객체 생성"
      ],
      "metadata": {
        "id": "f01nPbwxkJah"
      },
      "execution_count": 14,
      "outputs": []
    },
    {
      "cell_type": "code",
      "source": [
        "gs.fit(train_input, train_target)"
      ],
      "metadata": {
        "colab": {
          "base_uri": "https://localhost:8080/"
        },
        "id": "3vtKAkOWkp5n",
        "outputId": "8a994804-1521-4fed-9403-ed2cb3c34f31"
      },
      "execution_count": 15,
      "outputs": [
        {
          "output_type": "execute_result",
          "data": {
            "text/plain": [
              "GridSearchCV(estimator=DecisionTreeClassifier(random_state=42), n_jobs=-1,\n",
              "             param_grid={'min_impurity_decrease': [0.0001, 0.0002, 0.0003,\n",
              "                                                   0.0004, 0.0005]})"
            ]
          },
          "metadata": {},
          "execution_count": 15
        }
      ]
    },
    {
      "cell_type": "code",
      "source": [
        "# best_estimator_ 속성 : 여러 모델중에서 검증 점수가 가장 높은 모델\n",
        "dt = gs.best_estimator_\n",
        "print(dt.score(train_input, train_target))"
      ],
      "metadata": {
        "colab": {
          "base_uri": "https://localhost:8080/"
        },
        "id": "eqc1neMFnS3c",
        "outputId": "3bceb612-af60-4093-d3aa-0ab2e2745c7f"
      },
      "execution_count": 16,
      "outputs": [
        {
          "output_type": "stream",
          "name": "stdout",
          "text": [
            "0.9615162593804117\n"
          ]
        }
      ]
    },
    {
      "cell_type": "code",
      "source": [
        "# best_params_ 속성 : 최적의 매개변수\n",
        "print(gs.best_params_)"
      ],
      "metadata": {
        "colab": {
          "base_uri": "https://localhost:8080/"
        },
        "id": "ggY04d7ant_W",
        "outputId": "5be5ae9d-110c-446e-8aa9-07183ae24c16"
      },
      "execution_count": 17,
      "outputs": [
        {
          "output_type": "stream",
          "name": "stdout",
          "text": [
            "{'min_impurity_decrease': 0.0001}\n"
          ]
        }
      ]
    },
    {
      "cell_type": "code",
      "source": [
        "# cv_results_ 속성의 \"mean_test_score\" 키 : 각 매개변수에서 수행한 교차 검증의 평균 점수 \n",
        "print(gs.cv_results_[\"mean_test_score\"])"
      ],
      "metadata": {
        "colab": {
          "base_uri": "https://localhost:8080/"
        },
        "id": "LpV619mDnxq4",
        "outputId": "3af1c6e7-dc03-4b0f-89a8-06316b11a9ba"
      },
      "execution_count": 18,
      "outputs": [
        {
          "output_type": "stream",
          "name": "stdout",
          "text": [
            "[0.86819297 0.86453617 0.86492226 0.86780891 0.86761605]\n"
          ]
        }
      ]
    },
    {
      "cell_type": "code",
      "source": [
        "# argmax() 함수 : 가장 큰 값 일떄의 인덱스 추출\n",
        "best_index = np.argmax(gs.cv_results_[\"mean_test_score\"])\n",
        "print(gs.cv_results_[\"params\"][best_index])\n",
        "print(best_index)"
      ],
      "metadata": {
        "colab": {
          "base_uri": "https://localhost:8080/"
        },
        "id": "FSxMmpuAoL3y",
        "outputId": "f95b8ead-e9ee-4432-b7ab-283d694e45da"
      },
      "execution_count": 19,
      "outputs": [
        {
          "output_type": "stream",
          "name": "stdout",
          "text": [
            "{'min_impurity_decrease': 0.0001}\n",
            "0\n"
          ]
        }
      ]
    },
    {
      "cell_type": "code",
      "source": [
        "# 3가지 매개변수들과 그 값의 리스트를 딕셔너리로 지정\n",
        "params = {\"min_impurity_decrease\" : np.arange(0.0001, 0.001, 0.0001), #np.arrange()는 소수도 입력 가능\n",
        "          \"max_depth\" : range(5,20,1), # 파이썬 range()는 정수만 입력 가능\n",
        "          \"min_samples_split\" : range(2,100,10)}"
      ],
      "metadata": {
        "id": "0QwM0bmIotdu"
      },
      "execution_count": 20,
      "outputs": []
    },
    {
      "cell_type": "code",
      "source": [
        "gs = GridSearchCV(DecisionTreeClassifier(random_state=42), params, n_jobs=-1) #존재하는 모든 cpu 코어 사용\n",
        "gs.fit(train_input, train_target)"
      ],
      "metadata": {
        "colab": {
          "base_uri": "https://localhost:8080/"
        },
        "id": "xMsYT7vApnqB",
        "outputId": "a3d9fe3c-7aae-4949-f00f-cd2fbdf5d4f3"
      },
      "execution_count": 21,
      "outputs": [
        {
          "output_type": "execute_result",
          "data": {
            "text/plain": [
              "GridSearchCV(estimator=DecisionTreeClassifier(random_state=42), n_jobs=-1,\n",
              "             param_grid={'max_depth': range(5, 20),\n",
              "                         'min_impurity_decrease': array([0.0001, 0.0002, 0.0003, 0.0004, 0.0005, 0.0006, 0.0007, 0.0008,\n",
              "       0.0009]),\n",
              "                         'min_samples_split': range(2, 100, 10)})"
            ]
          },
          "metadata": {},
          "execution_count": 21
        }
      ]
    },
    {
      "cell_type": "code",
      "source": [
        "import multiprocessing\n",
        "cores = multiprocessing.cpu_count()\n",
        "print(cores)"
      ],
      "metadata": {
        "colab": {
          "base_uri": "https://localhost:8080/"
        },
        "id": "cUSsxMveqJuz",
        "outputId": "71c40a38-53ba-4c26-cbb6-83c4da3e1689"
      },
      "execution_count": 22,
      "outputs": [
        {
          "output_type": "stream",
          "name": "stdout",
          "text": [
            "2\n"
          ]
        }
      ]
    },
    {
      "cell_type": "code",
      "source": [
        "print(gs.best_params_)"
      ],
      "metadata": {
        "colab": {
          "base_uri": "https://localhost:8080/"
        },
        "id": "tLhpU5znqnEQ",
        "outputId": "2a97c875-ccef-4696-defc-7db45f7f8cf7"
      },
      "execution_count": 23,
      "outputs": [
        {
          "output_type": "stream",
          "name": "stdout",
          "text": [
            "{'max_depth': 14, 'min_impurity_decrease': 0.0004, 'min_samples_split': 12}\n"
          ]
        }
      ]
    },
    {
      "cell_type": "code",
      "source": [
        "print(np.max(gs.cv_results_[\"mean_test_score\"]))"
      ],
      "metadata": {
        "colab": {
          "base_uri": "https://localhost:8080/"
        },
        "id": "N9YXpaqaqrp5",
        "outputId": "a4451bf7-ceca-47f4-c80e-0ff05f78cc78"
      },
      "execution_count": 24,
      "outputs": [
        {
          "output_type": "stream",
          "name": "stdout",
          "text": [
            "0.8683865773302731\n"
          ]
        }
      ]
    },
    {
      "cell_type": "markdown",
      "source": [
        "###랜덤 서치"
      ],
      "metadata": {
        "id": "31ypo-1Q1Qgm"
      }
    },
    {
      "cell_type": "code",
      "source": [
        "# 싸이파이의 stats 서브 패키지의 uniform 클래스 : 균등 분포에서 실숫값을 샘플링함\n",
        "# 싸이파이의 stats 서브 패키지의 randint 클래스 : 균등 분포에서 정숫값을 샘플링함\n",
        "# rvs() 매서드 : n개의 값을 샘플링\n",
        "from scipy.stats import uniform, randint\n",
        "rgen = randint(0,10) #0부터 9까지\n",
        "rgen.rvs(10)"
      ],
      "metadata": {
        "colab": {
          "base_uri": "https://localhost:8080/"
        },
        "id": "RyZw0lOyq0rv",
        "outputId": "a153e116-b3c3-4bcc-e298-a656b8740270"
      },
      "execution_count": 25,
      "outputs": [
        {
          "output_type": "execute_result",
          "data": {
            "text/plain": [
              "array([6, 1, 2, 1, 7, 5, 5, 1, 5, 8])"
            ]
          },
          "metadata": {},
          "execution_count": 25
        }
      ]
    },
    {
      "cell_type": "code",
      "source": [
        "np.unique(rgen.rvs(1000), return_counts=True)"
      ],
      "metadata": {
        "colab": {
          "base_uri": "https://localhost:8080/"
        },
        "id": "OVn6eF66rzB_",
        "outputId": "b8ce233f-8460-4f9d-bd04-b3cd49a8cbeb"
      },
      "execution_count": 26,
      "outputs": [
        {
          "output_type": "execute_result",
          "data": {
            "text/plain": [
              "(array([0, 1, 2, 3, 4, 5, 6, 7, 8, 9]),\n",
              " array([ 83,  94,  99,  91, 108, 118,  92, 107, 118,  90]))"
            ]
          },
          "metadata": {},
          "execution_count": 26
        }
      ]
    },
    {
      "cell_type": "code",
      "source": [
        "ugen = uniform(0,1)\n",
        "ugen.rvs(10)"
      ],
      "metadata": {
        "colab": {
          "base_uri": "https://localhost:8080/"
        },
        "id": "lWKoEaew1gpO",
        "outputId": "1949a644-bcf6-445b-9b52-0c18b4a5acbc"
      },
      "execution_count": 27,
      "outputs": [
        {
          "output_type": "execute_result",
          "data": {
            "text/plain": [
              "array([0.77425797, 0.44679388, 0.49087688, 0.63281312, 0.266556  ,\n",
              "       0.61332114, 0.19169349, 0.66268168, 0.20705753, 0.27794959])"
            ]
          },
          "metadata": {},
          "execution_count": 27
        }
      ]
    },
    {
      "cell_type": "code",
      "source": [
        "params = {\"min_impurity_decrease\" : uniform(0.0001, 0.001),\n",
        "          \"max_depth\" : randint(20, 50),\n",
        "          \"min_samples_split\" : randint(2, 25),\n",
        "          \"min_samples_leaf\" : randint(1, 25),}"
      ],
      "metadata": {
        "id": "r3UoFNU11ldu"
      },
      "execution_count": 28,
      "outputs": []
    },
    {
      "cell_type": "code",
      "source": [
        "from sklearn.model_selection import RandomizedSearchCV\n",
        "gs = RandomizedSearchCV(DecisionTreeClassifier(random_state=42), params,\n",
        "                        n_iter=100, n_jobs=-1, random_state=42)\n",
        "gs.fit(train_input, train_target)"
      ],
      "metadata": {
        "colab": {
          "base_uri": "https://localhost:8080/"
        },
        "id": "uipxTXef2Coa",
        "outputId": "9b50bec1-13b6-4830-f6b7-1170dd97a2ed"
      },
      "execution_count": 29,
      "outputs": [
        {
          "output_type": "execute_result",
          "data": {
            "text/plain": [
              "RandomizedSearchCV(estimator=DecisionTreeClassifier(random_state=42),\n",
              "                   n_iter=100, n_jobs=-1,\n",
              "                   param_distributions={'max_depth': <scipy.stats._distn_infrastructure.rv_frozen object at 0x7f7966bf1190>,\n",
              "                                        'min_impurity_decrease': <scipy.stats._distn_infrastructure.rv_frozen object at 0x7f7966bf1410>,\n",
              "                                        'min_samples_leaf': <scipy.stats._distn_infrastructure.rv_frozen object at 0x7f7967510b90>,\n",
              "                                        'min_samples_split': <scipy.stats._distn_infrastructure.rv_frozen object at 0x7f7966bf1250>},\n",
              "                   random_state=42)"
            ]
          },
          "metadata": {},
          "execution_count": 29
        }
      ]
    },
    {
      "cell_type": "code",
      "source": [
        "print(gs.best_params_)"
      ],
      "metadata": {
        "colab": {
          "base_uri": "https://localhost:8080/"
        },
        "id": "6Q01Bpy62a25",
        "outputId": "65a51cf6-e93f-4bb0-91f8-ae4d336183a7"
      },
      "execution_count": 30,
      "outputs": [
        {
          "output_type": "stream",
          "name": "stdout",
          "text": [
            "{'max_depth': 39, 'min_impurity_decrease': 0.00034102546602601173, 'min_samples_leaf': 7, 'min_samples_split': 13}\n"
          ]
        }
      ]
    },
    {
      "cell_type": "code",
      "source": [
        "print(np.max(gs.cv_results_[\"mean_test_score\"]))"
      ],
      "metadata": {
        "colab": {
          "base_uri": "https://localhost:8080/"
        },
        "id": "EBD38ldj2d3M",
        "outputId": "e6d887c6-01c5-4272-c914-df93bf572759"
      },
      "execution_count": 31,
      "outputs": [
        {
          "output_type": "stream",
          "name": "stdout",
          "text": [
            "0.8695428296438884\n"
          ]
        }
      ]
    },
    {
      "cell_type": "code",
      "source": [
        "dt = gs.best_estimator_\n",
        "print(dt.score(test_input, test_target))"
      ],
      "metadata": {
        "colab": {
          "base_uri": "https://localhost:8080/"
        },
        "id": "JpkoZTHB2wKD",
        "outputId": "02cdc6c8-c3cb-49c9-9f92-25ea39bd802d"
      },
      "execution_count": 32,
      "outputs": [
        {
          "output_type": "stream",
          "name": "stdout",
          "text": [
            "0.86\n"
          ]
        }
      ]
    },
    {
      "cell_type": "markdown",
      "source": [
        "예제"
      ],
      "metadata": {
        "id": "RVb6839O3xTE"
      }
    },
    {
      "cell_type": "code",
      "source": [
        "gs = RandomizedSearchCV(DecisionTreeClassifier(splitter=\"random\", random_state=42), params,\n",
        "                        n_iter=100, n_jobs=-1, random_state=42)\n",
        "gs.fit(train_input, train_target)\n",
        "print(gs.best_params_)\n",
        "print(np.max(gs.cv_results_[\"mean_test_score\"]))\n",
        "dt = gs.best_estimator_\n",
        "print(dt.score(test_input, test_target))"
      ],
      "metadata": {
        "colab": {
          "base_uri": "https://localhost:8080/"
        },
        "id": "goJXNCUA22yX",
        "outputId": "b3e73794-61c9-4d83-a272-3b10461be1ba"
      },
      "execution_count": 33,
      "outputs": [
        {
          "output_type": "stream",
          "name": "stdout",
          "text": [
            "{'max_depth': 43, 'min_impurity_decrease': 0.00011407982271508446, 'min_samples_leaf': 19, 'min_samples_split': 18}\n",
            "0.8458726956392981\n",
            "0.786923076923077\n"
          ]
        }
      ]
    },
    {
      "cell_type": "code",
      "source": [
        ""
      ],
      "metadata": {
        "id": "Ny9-Qs353sW3"
      },
      "execution_count": null,
      "outputs": []
    }
  ]
}